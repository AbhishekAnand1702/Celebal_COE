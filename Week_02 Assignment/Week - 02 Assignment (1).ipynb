{
 "cells": [
  {
   "cell_type": "code",
   "execution_count": 3,
   "id": "8611db86",
   "metadata": {},
   "outputs": [
    {
     "name": "stdout",
     "output_type": "stream",
     "text": [
      "1. Add 2. Subtract 3. Multiply 4. Divide 5. Exit\n",
      "Choose operation: 1\n",
      "First number: 55\n",
      "Second number: 45\n",
      "After Performing Operation , final Result : 100.0\n",
      "1. Add 2. Subtract 3. Multiply 4. Divide 5. Exit\n",
      "Choose operation: 2\n",
      "First number: 55\n",
      "Second number: 45\n",
      "After Performing Operation , final Result : 10.0\n",
      "1. Add 2. Subtract 3. Multiply 4. Divide 5. Exit\n",
      "Choose operation: 3\n",
      "First number: 5\n",
      "Second number: 4\n",
      "After Performing Operation , final Result : 20.0\n",
      "1. Add 2. Subtract 3. Multiply 4. Divide 5. Exit\n",
      "Choose operation: 4\n",
      "First number: 55\n",
      "Second number: 5\n",
      "After Performing Operation , final Result : 11.0\n",
      "1. Add 2. Subtract 3. Multiply 4. Divide 5. Exit\n",
      "Choose operation: 6\n",
      "Invalid input, please choose a valid operation.\n",
      "1. Add 2. Subtract 3. Multiply 4. Divide 5. Exit\n",
      "Choose operation: 5\n"
     ]
    }
   ],
   "source": [
    "while True:\n",
    "    print(\"1. Add 2. Subtract 3. Multiply 4. Divide 5. Exit\")\n",
    "    choice = input(\"Choose operation: \")\n",
    "    if choice in '1234':\n",
    "        x = float(input(\"First number: \"))\n",
    "        y = float(input(\"Second number: \"))\n",
    "        if choice == '1':\n",
    "            result = x + y\n",
    "        elif choice == '2':\n",
    "            result = x - y\n",
    "        elif choice == '3':\n",
    "            result = x * y\n",
    "        elif choice == '4':\n",
    "            result = x / y if y != 0 else \"Error! Division by zero.\"\n",
    "        print(\"After Performing Operation , final Result :\", result)\n",
    "    elif choice == '5':\n",
    "        break\n",
    "    else:\n",
    "        print(\"Invalid input, please choose a valid operation.\")\n"
   ]
  },
  {
   "cell_type": "code",
   "execution_count": null,
   "id": "7436254c",
   "metadata": {},
   "outputs": [],
   "source": []
  }
 ],
 "metadata": {
  "kernelspec": {
   "display_name": "Python 3 (ipykernel)",
   "language": "python",
   "name": "python3"
  },
  "language_info": {
   "codemirror_mode": {
    "name": "ipython",
    "version": 3
   },
   "file_extension": ".py",
   "mimetype": "text/x-python",
   "name": "python",
   "nbconvert_exporter": "python",
   "pygments_lexer": "ipython3",
   "version": "3.11.3"
  }
 },
 "nbformat": 4,
 "nbformat_minor": 5
}
